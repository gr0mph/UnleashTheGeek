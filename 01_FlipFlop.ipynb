{
 "cells": [
  {
   "cell_type": "code",
   "execution_count": null,
   "metadata": {},
   "outputs": [],
   "source": []
  },
  {
   "cell_type": "code",
   "execution_count": 2,
   "metadata": {},
   "outputs": [
    {
     "ename": "ModuleNotFoundError",
     "evalue": "No module named 'tkinter'",
     "output_type": "error",
     "traceback": [
      "\u001b[0;31m---------------------------------------------------------------------------\u001b[0m",
      "\u001b[0;31mModuleNotFoundError\u001b[0m                       Traceback (most recent call last)",
      "\u001b[0;32m<ipython-input-2-77cae8fc3d3c>\u001b[0m in \u001b[0;36m<module>\u001b[0;34m\u001b[0m\n\u001b[0;32m----> 1\u001b[0;31m \u001b[0;32mfrom\u001b[0m \u001b[0mtkinter\u001b[0m \u001b[0;32mimport\u001b[0m \u001b[0;34m*\u001b[0m\u001b[0;34m\u001b[0m\u001b[0;34m\u001b[0m\u001b[0m\n\u001b[0m",
      "\u001b[0;31mModuleNotFoundError\u001b[0m: No module named 'tkinter'"
     ]
    }
   ],
   "source": [
    "from tkinter import *"
   ]
  },
  {
   "cell_type": "code",
   "execution_count": 1,
   "metadata": {},
   "outputs": [],
   "source": [
    "class Pos:\n",
    "    def __init__(self, x, y):\n",
    "        self.x = x\n",
    "        self.y = y\n",
    "\n",
    "    def __str__(self):\n",
    "        return '({},{})'.format(self.x, self.y)\n",
    "    \n",
    "    def distance(self, pos):\n",
    "        return abs(self.x - pos.x) + abs(self.y - pos.y)\n"
   ]
  },
  {
   "cell_type": "code",
   "execution_count": 2,
   "metadata": {},
   "outputs": [],
   "source": [
    "class RobotState:\n",
    "    def __init__(self):\n",
    "        self.queue = []\n",
    "        self.index = 0\n",
    "        self.size = 0\n",
    "    \n",
    "    def append(self, Pos):\n",
    "        self.queue.append(Pos)\n",
    "        self.size = self.size + 1\n",
    "    \n",
    "    def __iter__(self):\n",
    "        self.index = 0\n",
    "        return self\n",
    "\n",
    "    def __next__(self):\n",
    "        if self.index == self.size:\n",
    "            raise StopIteration\n",
    "        item = self.queue[self.index]\n",
    "        self.index = self.index + 1\n",
    "        return item\n",
    "\n",
    "    def __getitem__(self,index):\n",
    "        return self.queue[index]\n",
    "\n",
    "    def __setitem__(self,index,value):\n",
    "        self.queue[index] = value\n",
    "    "
   ]
  },
  {
   "cell_type": "code",
   "execution_count": 4,
   "metadata": {},
   "outputs": [],
   "source": [
    "class GameState:\n",
    "    def __init__(self):\n",
    "        self.grid = []\n",
    "        self.radars = {}\n",
    "        self.traps = {}\n",
    "        self.my_robots = {}\n",
    "        self.my_robots[0] = RobotState()\n",
    "        self.my_robots[1] = RobotState()\n",
    "        self.my_robots[2] = RobotState()\n",
    "        self.my_robots[3] = RobotState()\n",
    "        self.my_robots[4] = RobotState()\n",
    "        \n",
    "        self.en_robots = {}\n",
    "        self.en_robots[0] = RobotState()\n",
    "        self.en_robots[1] = RobotState()\n",
    "        self.en_robots[2] = RobotState()\n",
    "        self.en_robots[3] = RobotState()\n",
    "        self.en_robots[4] = RobotState()\n"
   ]
  },
  {
   "cell_type": "code",
   "execution_count": 5,
   "metadata": {},
   "outputs": [],
   "source": [
    "gameState = GameState()"
   ]
  },
  {
   "cell_type": "code",
   "execution_count": 6,
   "metadata": {},
   "outputs": [
    {
     "name": "stdout",
     "output_type": "stream",
     "text": [
      "(0,3)\n"
     ]
    }
   ],
   "source": [
    "gameState.my_robots[0].append(Pos(0,3))\n",
    "print(Pos(0,3))"
   ]
  },
  {
   "cell_type": "code",
   "execution_count": 7,
   "metadata": {},
   "outputs": [
    {
     "data": {
      "text/plain": [
       "3"
      ]
     },
     "execution_count": 7,
     "metadata": {},
     "output_type": "execute_result"
    }
   ],
   "source": [
    "gameState.my_robots[0][-1].y"
   ]
  },
  {
   "cell_type": "code",
   "execution_count": 8,
   "metadata": {},
   "outputs": [
    {
     "data": {
      "text/plain": [
       "5"
      ]
     },
     "execution_count": 8,
     "metadata": {},
     "output_type": "execute_result"
    }
   ],
   "source": [
    "gameState.my_robots[0].append(Pos(2,5))\n",
    "gameState.my_robots[0][-1].y"
   ]
  },
  {
   "cell_type": "code",
   "execution_count": 9,
   "metadata": {},
   "outputs": [
    {
     "data": {
      "text/plain": [
       "7"
      ]
     },
     "execution_count": 9,
     "metadata": {},
     "output_type": "execute_result"
    }
   ],
   "source": [
    "gameState.my_robots[0].append(Pos(2,7))\n",
    "gameState.my_robots[0][-1].y"
   ]
  },
  {
   "cell_type": "code",
   "execution_count": 11,
   "metadata": {},
   "outputs": [
    {
     "name": "stdout",
     "output_type": "stream",
     "text": [
      "(0,3)\n",
      "(2,5)\n",
      "(2,7)\n"
     ]
    }
   ],
   "source": [
    "for pos in gameState.my_robots[0]:\n",
    "    print(pos)"
   ]
  },
  {
   "cell_type": "code",
   "execution_count": 15,
   "metadata": {},
   "outputs": [
    {
     "name": "stdout",
     "output_type": "stream",
     "text": [
      "(2,5)\n",
      "(2,7)\n"
     ]
    }
   ],
   "source": [
    "pos_in = gameState.my_robots[0][-2]\n",
    "print(pos_in)\n",
    "pos_out = gameState.my_robots[0][-1]\n",
    "print(pos_out)"
   ]
  },
  {
   "cell_type": "code",
   "execution_count": 16,
   "metadata": {},
   "outputs": [
    {
     "name": "stdout",
     "output_type": "stream",
     "text": [
      "Next input\n",
      "(2,7)\n",
      "Previous state: Input\n",
      "(2,7)\n",
      "Next state: Output\n",
      "(3,6)\n"
     ]
    }
   ],
   "source": [
    "print(\"Next input\")\n",
    "pos_out = gameState.my_robots[0][-1]\n",
    "print(pos_out)\n",
    "\n",
    "gameState.my_robots[0].append(Pos(3,6))\n",
    "gameState.my_robots[0][-1].y\n",
    "\n",
    "print(\"Previous state: Input\")\n",
    "pos_in = gameState.my_robots[0][-2]\n",
    "print(pos_in)\n",
    "\n",
    "print(\"Next state: Output\")\n",
    "pos_out = gameState.my_robots[0][-1]\n",
    "print(pos_out)"
   ]
  }
 ],
 "metadata": {
  "kernelspec": {
   "display_name": "Python 3",
   "language": "python",
   "name": "python3"
  },
  "language_info": {
   "codemirror_mode": {
    "name": "ipython",
    "version": 3
   },
   "file_extension": ".py",
   "mimetype": "text/x-python",
   "name": "python",
   "nbconvert_exporter": "python",
   "pygments_lexer": "ipython3",
   "version": "3.6.8"
  }
 },
 "nbformat": 4,
 "nbformat_minor": 2
}
