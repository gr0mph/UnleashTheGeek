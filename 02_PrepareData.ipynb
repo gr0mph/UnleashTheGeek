{
 "cells": [
  {
   "cell_type": "code",
   "execution_count": null,
   "metadata": {},
   "outputs": [],
   "source": []
  },
  {
   "cell_type": "code",
   "execution_count": 2,
   "metadata": {},
   "outputs": [],
   "source": [
    "import math\n",
    "import copy"
   ]
  },
  {
   "cell_type": "code",
   "execution_count": 3,
   "metadata": {},
   "outputs": [],
   "source": [
    "NONE = -1\n",
    "ROBOT_ALLY = 0\n",
    "ROBOT_ENEMY = 1\n",
    "HOLE = 1\n",
    "RADAR = 2\n",
    "TRAP = 3\n",
    "AMADEUSIUM = 4\n",
    "ORE_UNKNOW = 5\n",
    "PREDICT_AMADEUSIUM = 6\n",
    "NEED_RADAR = 7\n",
    "NEED_NO_HOLE = 8\n",
    "NEED_REQUEST_RADAR = 9"
   ]
  },
  {
   "cell_type": "code",
   "execution_count": 4,
   "metadata": {},
   "outputs": [],
   "source": [
    "class Pos:\n",
    "    def __init__(self, x, y):\n",
    "        self.x = x\n",
    "        self.y = y\n",
    "\n",
    "    def __str__(self):\n",
    "        return '({},{})'.format(self.x, self.y)\n",
    "    \n",
    "    def distance(self, pos):\n",
    "        return abs(self.x - pos.x) + abs(self.y - pos.y)\n",
    "\n",
    "class Entity(Pos):\n",
    "    def __init__(self, x, y, type, id):\n",
    "        super().__init__(x, y)\n",
    "        self.type = type\n",
    "        self.id = id\n",
    "\n",
    "\n",
    "class Robot(Entity):\n",
    "    def __init__(self, x, y, type, id, item):\n",
    "        super().__init__(x, y, type, id)\n",
    "        self.item = item\n",
    "\n",
    "    def has_ore(self):\n",
    "        return self.item == AMADEUSIUM\n",
    "\n",
    "    def is_dead(self):\n",
    "        return self.x == -1 and self.y == -1\n",
    "\n",
    "    @staticmethod\n",
    "    def move(x, y, message=\"\"):\n",
    "        print(f\"MOVE {x} {y} {message}\")\n",
    "\n",
    "    @staticmethod\n",
    "    def wait(message=\"\"):\n",
    "        print(f\"WAIT {message}\")\n",
    "\n",
    "    @staticmethod\n",
    "    def dig(x, y, message=\"\"):\n",
    "        print(f\"DIG {x} {y} {message}\")\n",
    "\n",
    "    @staticmethod\n",
    "    def request(requested_item, message=\"\"):\n",
    "        if requested_item == RADAR:\n",
    "            print(f\"REQUEST RADAR {message}\")\n",
    "        elif requested_item == TRAP:\n",
    "            print(f\"REQUEST TRAP {message}\")\n",
    "        else:\n",
    "            raise Exception(f\"Unknown item {requested_item}\")"
   ]
  },
  {
   "cell_type": "code",
   "execution_count": 5,
   "metadata": {},
   "outputs": [],
   "source": [
    "class Cell(Pos):\n",
    "    def __init__(self, x, y, amadeusium, hole):\n",
    "        super().__init__(x, y)\n",
    "        self.amadeusium = amadeusium\n",
    "        self.hole = hole\n",
    "\n",
    "    def __str__(self):\n",
    "        return 'x {} y {} amadeusium {} hole {}'.format(\n",
    "            self.x,\n",
    "            self.y,\n",
    "            self.amadeusium,\n",
    "            self.hole)\n",
    "        \n",
    "    def has_ore(self):\n",
    "        if self.amadeusium == '?':\n",
    "            return ORE_UNKNOW\n",
    "        elif int(self.amadeusium) > 0 :\n",
    "            return AMADEUSIUM\n",
    "        else:\n",
    "            return NONE\n",
    "\n",
    "    def has_hole(self):\n",
    "        #print(\"has_hole i {} j {} amadeusium {} hole {}\".format(\n",
    "        #    self.x,\n",
    "        #    self.y,\n",
    "        #    self.amadeusium,\n",
    "        #    self.hole), file=sys.stderr)\n",
    "        return self.hole\n",
    "\n",
    "    def update(self, amadeusium, hole):\n",
    "        self.amadeusium = amadeusium\n",
    "        self.hole = hole"
   ]
  },
  {
   "cell_type": "code",
   "execution_count": 6,
   "metadata": {},
   "outputs": [],
   "source": [
    "class CellInfo:\n",
    "    def __init__(self):\n",
    "        self.next_amadeusium = -1\n",
    "        self.next_hole = 0\n",
    "        self.my_trap = 0\n",
    "        self.my_radar = 0\n",
    "        self.has_opponent = 0\n",
    "        self.opponent_trap = 0\n",
    "        self.opponent_radar = 0\n",
    "        \n",
    "        \n",
    "    def __str__(self):\n",
    "        return '(ore {},hole {},trap {}, radar {}, opponent {})'.format(\n",
    "            self.next_amadeusium,\n",
    "            self.next_hole,\n",
    "            self.trap,\n",
    "            self.radar,\n",
    "            self.has_opponent)\n",
    "        \n",
    "    def predict(self, previous):\n",
    "        self = copy.copy(previous)        \n",
    "        \n",
    "    def correction(self, cell):\n",
    "        if cell.amadeusium != '?' :\n",
    "            self.next_amadeusium = self.amadeusium\n",
    "        #if self.next_hole != \n",
    "            "
   ]
  },
  {
   "cell_type": "code",
   "execution_count": 7,
   "metadata": {},
   "outputs": [],
   "source": [
    "class RobotInfo:\n",
    "    def __init__(self):\n",
    "        self.next_x = 0\n",
    "        self.next_y = 0\n",
    "        self.has_dig = 0\n",
    "        self.has_ore = 0\n",
    "        self.has_trap = 0\n",
    "        self.has_radar = 0\n",
    "        \n",
    "    def __str__(self):\n",
    "        return '(next_x {},next_y {},has_dig {}, has_ore {}, has_trap {} has_radar {})'.format(\n",
    "            self.next_x,\n",
    "            self.next_y,\n",
    "            self.has_dig,\n",
    "            self.has_ore,\n",
    "            self.has_trap,\n",
    "            self.has_radar)\n",
    "    \n",
    "    def predict(self,previous):\n",
    "        self = copy(previous)\n",
    "        \n",
    "    def correction(self, robot):\n",
    "        self.next_x = robot.x\n",
    "        self.next_y = robot.y\n",
    "        if robot.item == AMADEUSIUM:\n",
    "            self.has_ore = 1\n",
    "        elif robot.item == TRAP:\n",
    "            self.has_trap = 1\n",
    "        elif robot.item == RADAR:\n",
    "            self.has_radar = 1\n",
    "    "
   ]
  },
  {
   "cell_type": "code",
   "execution_count": 8,
   "metadata": {},
   "outputs": [],
   "source": [
    "class Grid:\n",
    "    def __init__(self):\n",
    "        self.cell = []\n",
    "        for y in range(height):\n",
    "            for x in range(width):\n",
    "                self.cell.append(Cell(x, y, 0, 0))\n",
    "        self.cell_info = []\n",
    "        for y in range(height):\n",
    "            for x in range(width):\n",
    "                self.cell_info.append(CellInfo())\n",
    "        self.index = 0\n",
    "        self.size = height * width\n",
    "        self.find = NONE\n",
    "\n",
    "    def get_cell(self, x, y):\n",
    "        if width > x >= 0 and height > y >= 0:\n",
    "            return self.cell[x + width * y]\n",
    "        return None\n",
    "    \n",
    "    def get_cell_info(self, x, y):\n",
    "        if width > x >= 0 and height > y >= 0:\n",
    "            return self.cell_info[x + width * y]\n",
    "        return None\n",
    "\n",
    "    def get_index(self, x, y):\n",
    "        if width > x >= 0 and height > y >= 0:\n",
    "            return x + width * y\n",
    "        return -1\n",
    "        \n",
    "    \n",
    "    def get_index_cross(self,x,y):\n",
    "        # Back\n",
    "        t_tuple = [-1,-1,-1,-1]\n",
    "        if width > x - 1 >= 0 and height > y >= 0:\n",
    "            t_tuple[3] = x - 1 + width * y\n",
    "        # Front\n",
    "        if width > x + 1 >= 0 and height > y >= 0:\n",
    "            t_tuple[0] = x - 1 + width * y\n",
    "        # Up\n",
    "        if width > x >= 0 and height > y - 1 >= 0:\n",
    "            t_tuple[1] = x + width * (y - 1)\n",
    "        # Down\n",
    "        if width > x >= 0 and height > y + 1 >= 0:\n",
    "            t_tuple[2] = x + width * (y + 1)\n",
    "        t_tuple = tuple(t_tuple)\n",
    "        return t_tuple\n",
    "    \n",
    "    def get_index_square(self,x,y):\n",
    "        t_true = True\n",
    "        if width <= x + 1 or x - 1 < 1 or height <= y + 1 or (y - 1) < 0:\n",
    "            t_true = False\n",
    "        if t_true == False:\n",
    "            return None\n",
    "        t_tuple = ((x-1,y-1),(x,y-1),(x+1,y-1),(x-1,y),(x,y),(x+1,y),(x-1,y+1),(x,y+1),(x+1,y+1))\n",
    "        #print('tuple {}'.format(t_tuple))\n",
    "        t_result = []\n",
    "        for i in t_tuple:\n",
    "            (x,y) = i\n",
    "            t_result.append(x + width * y)\n",
    "        t_tuple = tuple(t_result)\n",
    "        \n",
    "        return t_tuple\n",
    "\n",
    "    def __getitem__(self,index):\n",
    "        if index < 0 or index >= height * wight:\n",
    "            return None\n",
    "        return (self.cell[index], self.cell_info[index])\n",
    "    \n",
    "    def __iter__(self):\n",
    "        self.index = 0\n",
    "        return self\n",
    "\n",
    "    def __next__(self):\n",
    "        while True:\n",
    "            if self.index == self.size:\n",
    "                raise StopIteration\n",
    "        \n",
    "            item_cell = self.cell[self.index]\n",
    "            item_cell_info = self.cell_info[self.index]\n",
    "            self.index = self.index + 1\n",
    "        \n",
    "            #print('search i {}'.format(self.index))\n",
    "        \n",
    "            if self.find == AMADEUSIUM and item_cell.has_ore() > 0 :\n",
    "                break\n",
    "                \n",
    "            if self.find == PREDICT_AMADEUSIUM and item_cell_info.next_amadeusium > 0 :\n",
    "                break\n",
    "                \n",
    "            if self.find == NEED_RADAR :\n",
    "                x = self.index % width\n",
    "                y = math.trunc((self.index - x) / width)\n",
    "                t_tuple = self.get_index_square(x,y)\n",
    "                if t_tuple is None:\n",
    "                    continue\n",
    "                    \n",
    "                has_found = True\n",
    "                #print('new tuple')\n",
    "                for i in t_tuple:\n",
    "                    #print('i {} has_ore {}'.format(i,self.cell[i].has_ore()))\n",
    "                    if self.cell[i].has_ore() != -1:\n",
    "                        has_found = False\n",
    "                if has_found == True :\n",
    "                    break\n",
    "            \n",
    "            if self.find == NEED_NO_HOLE and item_cell.has_hole() != HOLE :\n",
    "                break\n",
    "            \n",
    "        return (item_cell, item_cell_info)\n"
   ]
  },
  {
   "cell_type": "code",
   "execution_count": 9,
   "metadata": {},
   "outputs": [],
   "source": [
    "class GridState:\n",
    "    def __init__(self):\n",
    "        self.grid = []\n",
    "        self.index = 0\n",
    "        self.size = 0\n",
    "    \n",
    "    def append(self, Grid):\n",
    "        self.grid.append(Grid)\n",
    "        self.size = self.size + 1\n",
    "    \n",
    "    def previous(self):\n",
    "        return self[-2]\n",
    "    \n",
    "    def current(self):\n",
    "        return self[-1]\n",
    "    \n",
    "    def __iter__(self):\n",
    "        self.index = 0\n",
    "        return self\n",
    "\n",
    "    def __next__(self):\n",
    "        if self.index == self.size:\n",
    "            raise StopIteration\n",
    "        item_grid = self.grid[self.index]\n",
    "        self.index = self.index + 1\n",
    "        return item_grid\n",
    "\n",
    "    def __getitem__(self,index):\n",
    "        item_grid = self.grid[self.index]\n",
    "        return item_grid\n"
   ]
  },
  {
   "cell_type": "code",
   "execution_count": 10,
   "metadata": {},
   "outputs": [],
   "source": [
    "class RobotState:\n",
    "    def __init__(self):\n",
    "        self.robot = []\n",
    "        self.robot_state = []\n",
    "        self.index = 0\n",
    "        self.size = 0\n",
    "    \n",
    "    def append(self, Robot, RobotInfo):\n",
    "        self.robot.append(Robot)\n",
    "        self.robot_state.append(RobotState)\n",
    "        self.size = self.size + 1\n",
    "    \n",
    "    def previous(self):\n",
    "        return self[-2]\n",
    "    \n",
    "    def current(self):\n",
    "        return self[-1]\n",
    "    \n",
    "    def __iter__(self):\n",
    "        self.index = 0\n",
    "        return self\n",
    "\n",
    "    def __next__(self):\n",
    "        if self.index == self.size:\n",
    "            raise StopIteration\n",
    "        (robot, robot_state) = (self.robot[self.index], self.robot_state[self.index])\n",
    "        self.index = self.index + 1\n",
    "        return (robot,robot_state)\n",
    "\n",
    "    def __getitem__(self,index):\n",
    "        (robot, robot_state) = (self.robot[self.index], self.robot_state[self.index])\n",
    "        return (robot,robot_state)\n"
   ]
  },
  {
   "cell_type": "code",
   "execution_count": 11,
   "metadata": {},
   "outputs": [],
   "source": [
    "class Strategy():\n",
    "    def __init__(self, GridState, RobotState):\n",
    "        self.index = 0\n",
    "        self.size = width * height\n",
    "        self.grid_state = GridState\n",
    "        self.robot_state = RobotState\n",
    "        self.find_ore = False\n",
    "        self.find_surely_ore = False\n",
    "        self.find_correct_place_radar = False\n",
    "        \n",
    "        self.previous_grid = self.grid_state[-2]\n",
    "        self.current_grid = self.grid_state[-1]\n",
    "        self.previous_agent = self.robot_state[-2]\n",
    "        self.current_agent = self.robot_state[-1]\n",
    "        \n",
    "        self.radar_cooldown = 100\n",
    "        self.trap_cooldown = 100\n",
    "        \n",
    "        current_grid_iter = iter(self.current_grid)\n",
    "        for (cell,cell_info) in self.previous_grid:\n",
    "            (current_cell, current_cell_info) = next(current_grid_iter)\n",
    "            current_cell_info.predict(cell_info)\n",
    "            current_cell_info.correction(current_cell)\n",
    "        \n",
    "        \n",
    "    def find_amadeusium(self):\n",
    "        grid.find = AMADEUSIUM\n",
    "        min_distance = 100\n",
    "        distance = 0\n",
    "        keep = None\n",
    "        (robot,robot_info) = self.current_agent\n",
    "        for (cell,cell_info) in self.current_grid:\n",
    "            distance = robot.distance(cell)\n",
    "            if distance < min_distance:\n",
    "                min_distance = distance\n",
    "                keep = (min_distance,cell,cell_info)\n",
    "        return keep\n",
    "    \n",
    "    def find_amadeusium_from_predict(self):\n",
    "        grid.find = PREDICT_AMADEUSIUM\n",
    "        min_distance = 100\n",
    "        distance = 0\n",
    "        keep = None\n",
    "        (robot,robot_info) = self.current_agent\n",
    "        for (cell,cell_info) in self.current_grid:\n",
    "            distance = robot.distance(cell)\n",
    "            if distance < min_distance:\n",
    "                min_distance = distance\n",
    "                keep = (min_distance,cell,cell_info)\n",
    "        return keep\n",
    "\n",
    "    def find_radar_correct_place(self):\n",
    "        grid.find = NEED_RADAR\n",
    "        min_distance = 100\n",
    "        distance = 0\n",
    "        keep = None\n",
    "        (robot,robot_info) = self.current_agent\n",
    "        for (cell,cell_info) in self.current_grid:\n",
    "            distance = robot.distance(cell)\n",
    "            if distance < min_distance:\n",
    "                min_distance = distance\n",
    "                keep = (min_distance,cell,cell_info)\n",
    "        return keep\n",
    "\n",
    "    def find_no_hole(self):\n",
    "        gred.find = NEED_NO_HOLE\n",
    "        min_distance = 100\n",
    "        distance = 0\n",
    "        keep = None\n",
    "        (robot,robot_info) = self.current_agent\n",
    "        for (cell,cell_info) in self.current_grid:\n",
    "            distance = robot.distance(cell)\n",
    "            if distance < min_distance:\n",
    "                min_distance = distance\n",
    "                keep = (min_distance,cell,cell_info)\n",
    "        return keep\n",
    "    \n",
    "    "
   ]
  },
  {
   "cell_type": "code",
   "execution_count": 12,
   "metadata": {},
   "outputs": [],
   "source": [
    "width = 30\n",
    "height = 15"
   ]
  },
  {
   "cell_type": "code",
   "execution_count": 13,
   "metadata": {},
   "outputs": [],
   "source": [
    "grid_state = GridState()\n",
    "robot_state = RobotState()\n"
   ]
  },
  {
   "cell_type": "code",
   "execution_count": 14,
   "metadata": {},
   "outputs": [],
   "source": [
    "grid = Grid()\n",
    "robot = Robot(3,6,0,0,-1)\n",
    "robot_info = RobotInfo()"
   ]
  },
  {
   "cell_type": "code",
   "execution_count": 15,
   "metadata": {},
   "outputs": [],
   "source": [
    "grid_state.append(grid)"
   ]
  },
  {
   "cell_type": "code",
   "execution_count": 16,
   "metadata": {},
   "outputs": [],
   "source": [
    "robot_state.append(robot,robot_info)"
   ]
  },
  {
   "cell_type": "code",
   "execution_count": 17,
   "metadata": {},
   "outputs": [
    {
     "data": {
      "text/plain": [
       "1"
      ]
     },
     "execution_count": 17,
     "metadata": {},
     "output_type": "execute_result"
    }
   ],
   "source": [
    "robot_state.size"
   ]
  },
  {
   "cell_type": "code",
   "execution_count": 18,
   "metadata": {},
   "outputs": [],
   "source": [
    "grid_state.append(grid)"
   ]
  },
  {
   "cell_type": "code",
   "execution_count": 19,
   "metadata": {},
   "outputs": [],
   "source": [
    "robot_state.append(robot, robot_info)"
   ]
  },
  {
   "cell_type": "code",
   "execution_count": 27,
   "metadata": {},
   "outputs": [
    {
     "ename": "AttributeError",
     "evalue": "'CellInfo' object has no attribute 'amadeusium'",
     "output_type": "error",
     "traceback": [
      "\u001b[0;31m---------------------------------------------------------------------------\u001b[0m",
      "\u001b[0;31mAttributeError\u001b[0m                            Traceback (most recent call last)",
      "\u001b[0;32m<ipython-input-27-ff2bf7455ce1>\u001b[0m in \u001b[0;36m<module>\u001b[0;34m\u001b[0m\n\u001b[0;32m----> 1\u001b[0;31m \u001b[0mstrategy\u001b[0m \u001b[0;34m=\u001b[0m \u001b[0mStrategy\u001b[0m\u001b[0;34m(\u001b[0m\u001b[0mgrid_state\u001b[0m\u001b[0;34m,\u001b[0m \u001b[0mrobot_state\u001b[0m\u001b[0;34m)\u001b[0m\u001b[0;34m\u001b[0m\u001b[0;34m\u001b[0m\u001b[0m\n\u001b[0m",
      "\u001b[0;32m<ipython-input-11-8e3e46ca7c4e>\u001b[0m in \u001b[0;36m__init__\u001b[0;34m(self, GridState, RobotState)\u001b[0m\n\u001b[1;32m     21\u001b[0m             \u001b[0;34m(\u001b[0m\u001b[0mcurrent_cell\u001b[0m\u001b[0;34m,\u001b[0m \u001b[0mcurrent_cell_info\u001b[0m\u001b[0;34m)\u001b[0m \u001b[0;34m=\u001b[0m \u001b[0mnext\u001b[0m\u001b[0;34m(\u001b[0m\u001b[0mcurrent_grid_iter\u001b[0m\u001b[0;34m)\u001b[0m\u001b[0;34m\u001b[0m\u001b[0;34m\u001b[0m\u001b[0m\n\u001b[1;32m     22\u001b[0m             \u001b[0mcurrent_cell_info\u001b[0m\u001b[0;34m.\u001b[0m\u001b[0mpredict\u001b[0m\u001b[0;34m(\u001b[0m\u001b[0mcell_info\u001b[0m\u001b[0;34m)\u001b[0m\u001b[0;34m\u001b[0m\u001b[0;34m\u001b[0m\u001b[0m\n\u001b[0;32m---> 23\u001b[0;31m             \u001b[0mcurrent_cell_info\u001b[0m\u001b[0;34m.\u001b[0m\u001b[0mcorrection\u001b[0m\u001b[0;34m(\u001b[0m\u001b[0mcurrent_cell\u001b[0m\u001b[0;34m)\u001b[0m\u001b[0;34m\u001b[0m\u001b[0;34m\u001b[0m\u001b[0m\n\u001b[0m\u001b[1;32m     24\u001b[0m \u001b[0;34m\u001b[0m\u001b[0m\n\u001b[1;32m     25\u001b[0m \u001b[0;34m\u001b[0m\u001b[0m\n",
      "\u001b[0;32m<ipython-input-6-e7deeab42bef>\u001b[0m in \u001b[0;36mcorrection\u001b[0;34m(self, cell)\u001b[0m\n\u001b[1;32m     23\u001b[0m     \u001b[0;32mdef\u001b[0m \u001b[0mcorrection\u001b[0m\u001b[0;34m(\u001b[0m\u001b[0mself\u001b[0m\u001b[0;34m,\u001b[0m \u001b[0mcell\u001b[0m\u001b[0;34m)\u001b[0m\u001b[0;34m:\u001b[0m\u001b[0;34m\u001b[0m\u001b[0;34m\u001b[0m\u001b[0m\n\u001b[1;32m     24\u001b[0m         \u001b[0;32mif\u001b[0m \u001b[0mcell\u001b[0m\u001b[0;34m.\u001b[0m\u001b[0mamadeusium\u001b[0m \u001b[0;34m!=\u001b[0m \u001b[0;34m'?'\u001b[0m \u001b[0;34m:\u001b[0m\u001b[0;34m\u001b[0m\u001b[0;34m\u001b[0m\u001b[0m\n\u001b[0;32m---> 25\u001b[0;31m             \u001b[0mself\u001b[0m\u001b[0;34m.\u001b[0m\u001b[0mnext_amadeusium\u001b[0m \u001b[0;34m=\u001b[0m \u001b[0mself\u001b[0m\u001b[0;34m.\u001b[0m\u001b[0mamadeusium\u001b[0m\u001b[0;34m\u001b[0m\u001b[0;34m\u001b[0m\u001b[0m\n\u001b[0m\u001b[1;32m     26\u001b[0m         \u001b[0;31m#if self.next_hole !=\u001b[0m\u001b[0;34m\u001b[0m\u001b[0;34m\u001b[0m\u001b[0;34m\u001b[0m\u001b[0m\n\u001b[1;32m     27\u001b[0m \u001b[0;34m\u001b[0m\u001b[0m\n",
      "\u001b[0;31mAttributeError\u001b[0m: 'CellInfo' object has no attribute 'amadeusium'"
     ]
    }
   ],
   "source": [
    "strategy = Strategy(grid_state, robot_state)"
   ]
  },
  {
   "cell_type": "code",
   "execution_count": 21,
   "metadata": {},
   "outputs": [],
   "source": [
    "result = strategy.find_amadeusium()\n",
    "result"
   ]
  },
  {
   "cell_type": "code",
   "execution_count": 22,
   "metadata": {},
   "outputs": [
    {
     "data": {
      "text/plain": [
       "NoneType"
      ]
     },
     "execution_count": 22,
     "metadata": {},
     "output_type": "execute_result"
    }
   ],
   "source": [
    "type(result)"
   ]
  },
  {
   "cell_type": "code",
   "execution_count": 23,
   "metadata": {},
   "outputs": [],
   "source": [
    "result = strategy.find_amadeusium_from_predict()\n",
    "result\n"
   ]
  },
  {
   "cell_type": "code",
   "execution_count": 24,
   "metadata": {},
   "outputs": [
    {
     "data": {
      "text/plain": [
       "NoneType"
      ]
     },
     "execution_count": 24,
     "metadata": {},
     "output_type": "execute_result"
    }
   ],
   "source": [
    "type(result)"
   ]
  },
  {
   "cell_type": "code",
   "execution_count": 25,
   "metadata": {},
   "outputs": [
    {
     "data": {
      "text/plain": [
       "(0, <__main__.Cell at 0x7f9b6042d908>, <__main__.CellInfo at 0x7f9b60458cf8>)"
      ]
     },
     "execution_count": 25,
     "metadata": {},
     "output_type": "execute_result"
    }
   ],
   "source": [
    "result = strategy.find_radar_correct_place()\n",
    "result"
   ]
  },
  {
   "cell_type": "code",
   "execution_count": 26,
   "metadata": {},
   "outputs": [
    {
     "ename": "ValueError",
     "evalue": "too many values to unpack (expected 2)",
     "output_type": "error",
     "traceback": [
      "\u001b[0;31m---------------------------------------------------------------------------\u001b[0m",
      "\u001b[0;31mValueError\u001b[0m                                Traceback (most recent call last)",
      "\u001b[0;32m<ipython-input-26-4b7a7f1fa907>\u001b[0m in \u001b[0;36m<module>\u001b[0;34m\u001b[0m\n\u001b[1;32m      1\u001b[0m \u001b[0;31m#type(result)\u001b[0m\u001b[0;34m\u001b[0m\u001b[0;34m\u001b[0m\u001b[0;34m\u001b[0m\u001b[0m\n\u001b[0;32m----> 2\u001b[0;31m \u001b[0mt_cell\u001b[0m\u001b[0;34m,\u001b[0m \u001b[0mt_cell_info\u001b[0m \u001b[0;34m=\u001b[0m \u001b[0mresult\u001b[0m\u001b[0;34m\u001b[0m\u001b[0;34m\u001b[0m\u001b[0m\n\u001b[0m\u001b[1;32m      3\u001b[0m \u001b[0mprint\u001b[0m\u001b[0;34m(\u001b[0m\u001b[0mt_cell\u001b[0m\u001b[0;34m)\u001b[0m\u001b[0;34m\u001b[0m\u001b[0;34m\u001b[0m\u001b[0m\n\u001b[1;32m      4\u001b[0m \u001b[0mprint\u001b[0m\u001b[0;34m(\u001b[0m\u001b[0mresult\u001b[0m\u001b[0;34m)\u001b[0m\u001b[0;34m\u001b[0m\u001b[0;34m\u001b[0m\u001b[0m\n",
      "\u001b[0;31mValueError\u001b[0m: too many values to unpack (expected 2)"
     ]
    }
   ],
   "source": [
    "#type(result)\n",
    "t_cell, t_cell_info = result\n",
    "print(t_cell)\n",
    "print(result)"
   ]
  },
  {
   "cell_type": "code",
   "execution_count": null,
   "metadata": {},
   "outputs": [],
   "source": [
    "(agent, agent_info) = robot_state.current()\n",
    "print(agent)"
   ]
  }
 ],
 "metadata": {
  "kernelspec": {
   "display_name": "Python 3",
   "language": "python",
   "name": "python3"
  },
  "language_info": {
   "codemirror_mode": {
    "name": "ipython",
    "version": 3
   },
   "file_extension": ".py",
   "mimetype": "text/x-python",
   "name": "python",
   "nbconvert_exporter": "python",
   "pygments_lexer": "ipython3",
   "version": "3.6.8"
  }
 },
 "nbformat": 4,
 "nbformat_minor": 2
}
